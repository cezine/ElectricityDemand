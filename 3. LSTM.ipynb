{
 "cells": [
  {
   "cell_type": "markdown",
   "metadata": {},
   "source": [
    "***NOTE: This notebook is work in progress."
   ]
  },
  {
   "cell_type": "markdown",
   "metadata": {},
   "source": [
    "# Data Preperation"
   ]
  },
  {
   "cell_type": "markdown",
   "metadata": {},
   "source": [
    "The cell below is the necessary steps to prepare data for modeling. Please see the EDA notebook for details."
   ]
  },
  {
   "cell_type": "code",
   "execution_count": 1,
   "metadata": {},
   "outputs": [],
   "source": [
    "import pandas as pd\n",
    "import numpy as np\n",
    "import matplotlib.pyplot as plt\n",
    "%matplotlib inline\n",
    "\n",
    "from statsmodels.tools.eval_measures import rmse, aic\n",
    "from sklearn.preprocessing import MinMaxScaler, StandardScaler\n",
    "import tensorflow as tf\n",
    "from keras import models, layers, optimizers, regularizers\n",
    "from keras.models import Model, Sequential\n",
    "from keras.callbacks import ModelCheckpoint, ReduceLROnPlateau, EarlyStopping\n",
    "from tensorflow.keras.layers import Dense, Dropout, LSTM, RepeatVector, LeakyReLU\n",
    "\n",
    "tf.random.set_seed(3)\n",
    "np.random.seed(3)"
   ]
  },
  {
   "cell_type": "code",
   "execution_count": 2,
   "metadata": {},
   "outputs": [
    {
     "name": "stderr",
     "output_type": "stream",
     "text": [
      "/opt/anaconda3/envs/learn-env/lib/python3.8/site-packages/IPython/core/interactiveshell.py:3145: DtypeWarning: Columns (17) have mixed types.Specify dtype option on import or set low_memory=False.\n",
      "  has_raised = await self.run_ast_nodes(code_ast.body, cell_name,\n"
     ]
    },
    {
     "name": "stdout",
     "output_type": "stream",
     "text": [
      "manhattan_data shape:  (134, 8)\n",
      "data shape:  (72, 8)\n",
      "train shape:  (60, 8)\n",
      "val shape:  (12, 8)\n",
      "test shape:  (26, 8)\n"
     ]
    }
   ],
   "source": [
    "### Electricity Consumption Dataset ###\n",
    "\n",
    "preview_e = pd.read_csv(\"Electric_Consumption_And_Cost__2010_-_April_2020_.csv\")\n",
    "\n",
    "preview_e['DATE'] = pd.to_datetime(preview_e['Service End Date'], format=\"%m/%d/%Y\")\n",
    "\n",
    "preview_e.set_index('DATE', inplace=True)\n",
    "\n",
    "Manhattan = preview_e.loc[preview_e['Borough'] == 'MANHATTAN']\n",
    "\n",
    "electric_manhattan = Manhattan.resample('MS').mean()\n",
    "\n",
    "electric_manhattan = pd.DataFrame(electric_manhattan['Consumption (KWH)'])\n",
    "\n",
    "### Weather Dataset ### \n",
    "\n",
    "preview_w = pd.read_csv('nyc_weather.csv')\n",
    "\n",
    "preview_w['DATE'] = pd.to_datetime(preview_w['DATE'], format=\"%Y/%m\")\n",
    "\n",
    "keep = ['DATE', 'NAME', 'CDSD', 'EMNT', 'EMXT', 'HDSD', 'TAVG', 'TMAX', 'TMIN']\n",
    "\n",
    "preview_w = preview_w[keep]\n",
    "\n",
    "preview_w = preview_w.rename(columns={'CDSD': 'Cooling Degree Days Season',\n",
    "                                      'EMNT': 'Extreme Minimum Temperature',\n",
    "                                      'EMXT': 'Extreme Maximum Temperature',\n",
    "                                      'HDSD': 'Heating Degree Days Season',\n",
    "                                      'TAVG': 'Average Temperature',\n",
    "                                      'TMAX': 'Maximum Temperature',\n",
    "                                      'TMIN': 'Minimum Temperature'})\n",
    "\n",
    "preview_w.set_index('DATE', inplace=True)\n",
    "\n",
    "central_park = preview_w.loc[preview_w['NAME'] == 'NY CITY CENTRAL PARK, NY US']    \n",
    "\n",
    "weather_central_park = central_park.resample('MS').mean()\n",
    "\n",
    "weather_central_park = weather_central_park.loc[:'2021-02-01']\n",
    "\n",
    "### Merge Datasets ###\n",
    "\n",
    "manhattan_data = electric_manhattan.merge(weather_central_park, left_index=True, right_index=True)\n",
    "\n",
    "### Train-Validation-Test Split ###\n",
    "\n",
    "dataset = manhattan_data['2012-01-01':]\n",
    "data = manhattan_data['2012-01-01':'2017-12-01'] \n",
    "train = data[:'2016-12-01']\n",
    "val = data['2017-01-01':]\n",
    "test = manhattan_data['2019-01-01':]\n",
    "\n",
    "print('manhattan_data shape: ', manhattan_data.shape)\n",
    "print('data shape: ', data.shape)\n",
    "print('train shape: ', train.shape)\n",
    "print('val shape: ', val.shape)\n",
    "print('test shape: ', test.shape)\n",
    "\n",
    "### List of Previous Models' Performance ###\n",
    "\n",
    "performance = ['VAR val (train1) - RMSE: 5,785. MAPE: 15%',\n",
    "               'VAR test (train1) - RMSE: 8,934. MAPE: 22%',\n",
    "               'VAR test (train2) - RMSE: 4,809. MAPE: 11%',\n",
    "               'VARMAX val (train1) - RMSE: 3,630. MAPE: 7%',\n",
    "               'VARMAX test (train1) - RMSE: 6,227. MAPE: 16%',\n",
    "               'VARMAX test (train2) - RMSE: 5,639. MAPE: 14%']"
   ]
  },
  {
   "cell_type": "code",
   "execution_count": 3,
   "metadata": {},
   "outputs": [],
   "source": [
    "# evaluating the forecasts\n",
    "def adjust(val, length= 6): \n",
    "    return str(val).ljust(length)\n",
    "\n",
    "def forecast_accuracy(forecast, actual):\n",
    "    mape = np.mean(np.abs(forecast - actual)/np.abs(actual))  # MAPE\n",
    "    me = np.mean(forecast - actual)             # ME\n",
    "    mae = np.mean(np.abs(forecast - actual))    # MAE\n",
    "    mpe = np.mean((forecast - actual)/actual)   # MPE\n",
    "    rmse = np.mean((forecast - actual)**2)**.5  # RMSE\n",
    "    corr = np.corrcoef(forecast, actual)[0,1]   # corr\n",
    "    mins = np.amin(np.hstack([forecast[:,None], \n",
    "                              actual[:,None]]), axis=1)\n",
    "    maxs = np.amax(np.hstack([forecast[:,None], \n",
    "                              actual[:,None]]), axis=1)\n",
    "    minmax = 1 - np.mean(mins/maxs)             # minmax\n",
    "    return({'mape':mape, 'me':me, 'mae': mae, \n",
    "            'mpe': mpe, 'rmse':rmse, 'corr':corr, 'minmax':minmax})\n",
    "\n",
    "# converting input data into 3-D array as required for LSTM network\n",
    "def split_sequence(sequence, n_steps):    \n",
    "    X, y = [], []\n",
    "    for i in range(len(sequence)):\n",
    "        # find the end of this pattern\n",
    "        end_ix = i + n_steps\n",
    "        # check if we are beyond the sequence\n",
    "        if end_ix > len(sequence)-1:\n",
    "            break\n",
    "        # gather input and output parts of the pattern\n",
    "        seq_x, seq_y = sequence[i:end_ix], sequence[end_ix]\n",
    "        X.append(seq_x)\n",
    "        y.append(seq_y)\n",
    "    return np.array(X), np.array(y)"
   ]
  },
  {
   "cell_type": "markdown",
   "metadata": {},
   "source": [
    "# Modeling"
   ]
  },
  {
   "cell_type": "markdown",
   "metadata": {},
   "source": [
    "This time, I will try to train the data using LSTM (Long Short Term Memory) models. The LSTM model can model problems with multiple input variables. The key to LSTM modeling is that you have to scale the data before fitting.\n",
    "\n",
    "For the evaluation metrics, I will focus on RMSE (Root Mean Squared Error), which will show how much kWh are off."
   ]
  },
  {
   "cell_type": "code",
   "execution_count": 4,
   "metadata": {},
   "outputs": [],
   "source": [
    "dataset_values = dataset.values"
   ]
  },
  {
   "cell_type": "code",
   "execution_count": 5,
   "metadata": {},
   "outputs": [],
   "source": [
    "scaler = MinMaxScaler(feature_range=(0,1))"
   ]
  },
  {
   "cell_type": "code",
   "execution_count": 6,
   "metadata": {},
   "outputs": [],
   "source": [
    "scaled_data = scaler.fit_transform(dataset_values)"
   ]
  },
  {
   "cell_type": "code",
   "execution_count": 7,
   "metadata": {},
   "outputs": [
    {
     "data": {
      "text/plain": [
       "(60, 12, 26)"
      ]
     },
     "execution_count": 7,
     "metadata": {},
     "output_type": "execute_result"
    }
   ],
   "source": [
    "train_data = scaled_data[:60]\n",
    "val_data = scaled_data[60:72]\n",
    "test_data = scaled_data[-26:]\n",
    "len(train_data), len(val_data), len(test_data)"
   ]
  },
  {
   "cell_type": "code",
   "execution_count": 8,
   "metadata": {},
   "outputs": [],
   "source": [
    "features = 8\n",
    "n_steps = 10"
   ]
  },
  {
   "cell_type": "code",
   "execution_count": 9,
   "metadata": {},
   "outputs": [],
   "source": [
    "X_train, y_train = split_sequence(train_data, n_steps)\n",
    "X_test, y_test = split_sequence(test_data, n_steps)\n",
    "X_val, y_val = split_sequence(val_data, n_steps)"
   ]
  },
  {
   "cell_type": "code",
   "execution_count": 10,
   "metadata": {},
   "outputs": [
    {
     "data": {
      "text/plain": [
       "((50, 10, 8), (50, 8))"
      ]
     },
     "execution_count": 10,
     "metadata": {},
     "output_type": "execute_result"
    }
   ],
   "source": [
    "X_train.shape, y_train.shape"
   ]
  },
  {
   "cell_type": "code",
   "execution_count": 11,
   "metadata": {},
   "outputs": [],
   "source": [
    "early = EarlyStopping(monitor='val_loss',patience=5)\n",
    "\n",
    "# reduce learning rate when a metric has stopped improving\n",
    "reduce = ReduceLROnPlateau(monitor='val_loss', patience=3, factor=0.2, mil_lr=0.001)"
   ]
  },
  {
   "cell_type": "code",
   "execution_count": 12,
   "metadata": {},
   "outputs": [
    {
     "data": {
      "text/plain": [
       "(26, 8)"
      ]
     },
     "execution_count": 12,
     "metadata": {},
     "output_type": "execute_result"
    }
   ],
   "source": [
    "test_data.shape"
   ]
  },
  {
   "cell_type": "code",
   "execution_count": 13,
   "metadata": {},
   "outputs": [
    {
     "data": {
      "text/plain": [
       "(16, 8)"
      ]
     },
     "execution_count": 13,
     "metadata": {},
     "output_type": "execute_result"
    }
   ],
   "source": [
    "y_test_re = scaler.inverse_transform(y_test)\n",
    "y_test_re.shape"
   ]
  },
  {
   "cell_type": "markdown",
   "metadata": {},
   "source": [
    "## Model 1 with RepeatVector"
   ]
  },
  {
   "cell_type": "code",
   "execution_count": 14,
   "metadata": {},
   "outputs": [],
   "source": [
    "model1 = Sequential()\n",
    "model1.add(LSTM(128, activation='relu', return_sequences=False, input_shape=(n_steps, features)))\n",
    "model1.add(RepeatVector(n_steps))\n",
    "model1.add(LSTM(128, activation='relu', return_sequences=False))\n",
    "model1.add(Dense(features))\n",
    "\n",
    "model1.compile(optimizer='adam', loss='mean_squared_error', metrics=['mean_squared_error'])"
   ]
  },
  {
   "cell_type": "code",
   "execution_count": 15,
   "metadata": {
    "scrolled": true
   },
   "outputs": [
    {
     "name": "stdout",
     "output_type": "stream",
     "text": [
      "Epoch 1/50\n",
      "1/1 [==============================] - 0s 299ms/step - loss: 0.3751 - mean_squared_error: 0.3751 - val_loss: 0.1825 - val_mean_squared_error: 0.1825\n",
      "Epoch 2/50\n",
      "1/1 [==============================] - 0s 26ms/step - loss: 0.3533 - mean_squared_error: 0.3533 - val_loss: 0.1642 - val_mean_squared_error: 0.1642\n",
      "Epoch 3/50\n",
      "1/1 [==============================] - 0s 36ms/step - loss: 0.3317 - mean_squared_error: 0.3317 - val_loss: 0.1455 - val_mean_squared_error: 0.1455\n",
      "Epoch 4/50\n",
      "1/1 [==============================] - 0s 28ms/step - loss: 0.3088 - mean_squared_error: 0.3088 - val_loss: 0.1259 - val_mean_squared_error: 0.1259\n",
      "Epoch 5/50\n",
      "1/1 [==============================] - 0s 32ms/step - loss: 0.2838 - mean_squared_error: 0.2838 - val_loss: 0.1045 - val_mean_squared_error: 0.1045\n",
      "Epoch 6/50\n",
      "1/1 [==============================] - 0s 32ms/step - loss: 0.2555 - mean_squared_error: 0.2555 - val_loss: 0.0818 - val_mean_squared_error: 0.0818\n",
      "Epoch 7/50\n",
      "1/1 [==============================] - 0s 31ms/step - loss: 0.2231 - mean_squared_error: 0.2231 - val_loss: 0.0591 - val_mean_squared_error: 0.0591\n",
      "Epoch 8/50\n",
      "1/1 [==============================] - 0s 33ms/step - loss: 0.1864 - mean_squared_error: 0.1864 - val_loss: 0.0422 - val_mean_squared_error: 0.0422\n",
      "Epoch 9/50\n",
      "1/1 [==============================] - 0s 35ms/step - loss: 0.1472 - mean_squared_error: 0.1472 - val_loss: 0.0518 - val_mean_squared_error: 0.0518\n",
      "Epoch 10/50\n",
      "1/1 [==============================] - 0s 28ms/step - loss: 0.1160 - mean_squared_error: 0.1160 - val_loss: 0.1379 - val_mean_squared_error: 0.1379\n",
      "Epoch 11/50\n",
      "1/1 [==============================] - 0s 28ms/step - loss: 0.1243 - mean_squared_error: 0.1243 - val_loss: 0.2009 - val_mean_squared_error: 0.2009\n",
      "Epoch 12/50\n",
      "1/1 [==============================] - 0s 30ms/step - loss: 0.1409 - mean_squared_error: 0.1409 - val_loss: 0.1917 - val_mean_squared_error: 0.1917\n",
      "Epoch 13/50\n",
      "1/1 [==============================] - 0s 28ms/step - loss: 0.1356 - mean_squared_error: 0.1356 - val_loss: 0.1722 - val_mean_squared_error: 0.1722\n"
     ]
    }
   ],
   "source": [
    "history1 = model1.fit(X_train, y_train, epochs=50, batch_size=50, verbose=1,\n",
    "         validation_data=(X_val, y_val), callbacks=[early,reduce])"
   ]
  },
  {
   "cell_type": "code",
   "execution_count": 16,
   "metadata": {},
   "outputs": [
    {
     "name": "stdout",
     "output_type": "stream",
     "text": [
      "Model: \"sequential\"\n",
      "_________________________________________________________________\n",
      "Layer (type)                 Output Shape              Param #   \n",
      "=================================================================\n",
      "lstm (LSTM)                  (None, 128)               70144     \n",
      "_________________________________________________________________\n",
      "repeat_vector (RepeatVector) (None, 10, 128)           0         \n",
      "_________________________________________________________________\n",
      "lstm_1 (LSTM)                (None, 128)               131584    \n",
      "_________________________________________________________________\n",
      "dense (Dense)                (None, 8)                 1032      \n",
      "=================================================================\n",
      "Total params: 202,760\n",
      "Trainable params: 202,760\n",
      "Non-trainable params: 0\n",
      "_________________________________________________________________\n"
     ]
    }
   ],
   "source": [
    "model1.summary()"
   ]
  },
  {
   "cell_type": "code",
   "execution_count": 17,
   "metadata": {},
   "outputs": [
    {
     "name": "stdout",
     "output_type": "stream",
     "text": [
      "RMSE：3153.895\n"
     ]
    }
   ],
   "source": [
    "# forecasting test set\n",
    "y_pred1 = model1.predict(X_test)\n",
    "\n",
    "y_pred1_inv = scaler.inverse_transform(y_pred1)\n",
    "y_test_inv = scaler.inverse_transform(y_test)\n",
    "\n",
    "rmse1 = np.sqrt(np.mean(((y_pred1_inv-y_test_inv) ** 2)))\n",
    "print(f'RMSE：{np.round(rmse1, 4)}')"
   ]
  },
  {
   "cell_type": "code",
   "execution_count": 18,
   "metadata": {},
   "outputs": [
    {
     "data": {
      "image/png": "[encoded data removed]",
      "text/plain": [
       "<Figure size 720x432 with 1 Axes>"
      ]
     },
     "metadata": {
      "needs_background": "light"
     },
     "output_type": "display_data"
    }
   ],
   "source": [
    "prediction = pd.DataFrame(y_pred1_inv)\n",
    "testdata= pd.DataFrame(y_test_re)\n",
    "prediction = prediction.iloc[:, 0].values\n",
    "testdata = testdata.iloc[:, 0].values\n",
    "\n",
    "plt.figure(figsize=(10,6))\n",
    "\n",
    "plt.plot(prediction)\n",
    "plt.plot(testdata)\n",
    "plt.legend(['Predicted Value', 'Real Value']);"
   ]
  },
  {
   "cell_type": "code",
   "execution_count": 19,
   "metadata": {},
   "outputs": [
    {
     "data": {
      "text/plain": [
       "['VAR val (train1) - RMSE: 5,785. MAPE: 15%',\n",
       " 'VAR test (train1) - RMSE: 8,934. MAPE: 22%',\n",
       " 'VAR test (train2) - RMSE: 4,809. MAPE: 11%',\n",
       " 'VARMAX val (train1) - RMSE: 3,630. MAPE: 7%',\n",
       " 'VARMAX test (train1) - RMSE: 6,227. MAPE: 16%',\n",
       " 'VARMAX test (train2) - RMSE: 5,639. MAPE: 14%',\n",
       " 'LSTM1 test (train2) - RMSE: 3,154.']"
      ]
     },
     "execution_count": 19,
     "metadata": {},
     "output_type": "execute_result"
    }
   ],
   "source": [
    "performance.append('LSTM1 test (train2) - RMSE: 3,154.')\n",
    "performance"
   ]
  },
  {
   "cell_type": "markdown",
   "metadata": {},
   "source": [
    "## Model 2 with Dropout"
   ]
  },
  {
   "cell_type": "code",
   "execution_count": 20,
   "metadata": {},
   "outputs": [],
   "source": [
    "model2 = Sequential()\n",
    "model2.add(LSTM(64, input_shape=(n_steps, features), return_sequences=True))\n",
    "model2.add(LSTM(32, return_sequences=False))\n",
    "model2.add(Dropout(0.2))\n",
    "model2.add(Dense(features))\n",
    "\n",
    "model2.compile(optimizer='adam', loss='mse', metrics=['accuracy'])"
   ]
  },
  {
   "cell_type": "code",
   "execution_count": 21,
   "metadata": {
    "scrolled": true
   },
   "outputs": [
    {
     "name": "stdout",
     "output_type": "stream",
     "text": [
      "Epoch 1/50\n",
      "2/2 [==============================] - 1s 332ms/step - loss: 0.3242 - accuracy: 0.3800 - val_loss: 0.1440 - val_accuracy: 0.0000e+00\n",
      "Epoch 2/50\n",
      "2/2 [==============================] - 0s 19ms/step - loss: 0.2505 - accuracy: 0.3200 - val_loss: 0.1023 - val_accuracy: 0.0000e+00\n",
      "Epoch 3/50\n",
      "2/2 [==============================] - 0s 22ms/step - loss: 0.2003 - accuracy: 0.3800 - val_loss: 0.0817 - val_accuracy: 0.0000e+00\n",
      "Epoch 4/50\n",
      "2/2 [==============================] - 0s 24ms/step - loss: 0.1582 - accuracy: 0.3800 - val_loss: 0.0816 - val_accuracy: 0.0000e+00\n",
      "Epoch 5/50\n",
      "2/2 [==============================] - 0s 26ms/step - loss: 0.1382 - accuracy: 0.2000 - val_loss: 0.0973 - val_accuracy: 0.0000e+00\n",
      "Epoch 6/50\n",
      "2/2 [==============================] - 0s 24ms/step - loss: 0.1230 - accuracy: 0.1200 - val_loss: 0.1057 - val_accuracy: 0.0000e+00\n",
      "Epoch 7/50\n",
      "2/2 [==============================] - 0s 24ms/step - loss: 0.1263 - accuracy: 0.0600 - val_loss: 0.0997 - val_accuracy: 0.0000e+00\n",
      "Epoch 8/50\n",
      "2/2 [==============================] - 0s 24ms/step - loss: 0.1226 - accuracy: 0.0200 - val_loss: 0.0806 - val_accuracy: 0.0000e+00\n",
      "Epoch 9/50\n",
      "2/2 [==============================] - 0s 29ms/step - loss: 0.1105 - accuracy: 0.0600 - val_loss: 0.0627 - val_accuracy: 0.0000e+00\n",
      "Epoch 10/50\n",
      "2/2 [==============================] - 0s 21ms/step - loss: 0.1166 - accuracy: 0.1400 - val_loss: 0.0472 - val_accuracy: 0.0000e+00\n",
      "Epoch 11/50\n",
      "2/2 [==============================] - 0s 19ms/step - loss: 0.0966 - accuracy: 0.1800 - val_loss: 0.0383 - val_accuracy: 0.0000e+00\n",
      "Epoch 12/50\n",
      "2/2 [==============================] - 0s 23ms/step - loss: 0.1118 - accuracy: 0.1200 - val_loss: 0.0358 - val_accuracy: 0.0000e+00\n",
      "Epoch 13/50\n",
      "2/2 [==============================] - 0s 18ms/step - loss: 0.0898 - accuracy: 0.1600 - val_loss: 0.0373 - val_accuracy: 0.0000e+00\n",
      "Epoch 14/50\n",
      "2/2 [==============================] - 0s 22ms/step - loss: 0.0979 - accuracy: 0.0600 - val_loss: 0.0423 - val_accuracy: 0.0000e+00\n",
      "Epoch 15/50\n",
      "2/2 [==============================] - 0s 20ms/step - loss: 0.0890 - accuracy: 0.1600 - val_loss: 0.0484 - val_accuracy: 0.0000e+00\n",
      "Epoch 16/50\n",
      "2/2 [==============================] - 0s 18ms/step - loss: 0.0857 - accuracy: 0.0800 - val_loss: 0.0545 - val_accuracy: 0.0000e+00\n",
      "Epoch 17/50\n",
      "2/2 [==============================] - 0s 18ms/step - loss: 0.0816 - accuracy: 0.1000 - val_loss: 0.0578 - val_accuracy: 0.0000e+00\n",
      "Epoch 18/50\n",
      "2/2 [==============================] - 0s 17ms/step - loss: 0.0770 - accuracy: 0.1400 - val_loss: 0.0566 - val_accuracy: 0.0000e+00\n",
      "Epoch 19/50\n",
      "2/2 [==============================] - 0s 18ms/step - loss: 0.0846 - accuracy: 0.1200 - val_loss: 0.0503 - val_accuracy: 0.0000e+00\n",
      "Epoch 20/50\n",
      "2/2 [==============================] - 0s 19ms/step - loss: 0.0815 - accuracy: 0.1800 - val_loss: 0.0437 - val_accuracy: 0.0000e+00\n",
      "Epoch 21/50\n",
      "2/2 [==============================] - 0s 17ms/step - loss: 0.0671 - accuracy: 0.1400 - val_loss: 0.0347 - val_accuracy: 0.5000\n",
      "Epoch 22/50\n",
      "2/2 [==============================] - 0s 19ms/step - loss: 0.0696 - accuracy: 0.3200 - val_loss: 0.0262 - val_accuracy: 1.0000\n",
      "Epoch 23/50\n",
      "2/2 [==============================] - 0s 20ms/step - loss: 0.0680 - accuracy: 0.2600 - val_loss: 0.0216 - val_accuracy: 1.0000\n",
      "Epoch 24/50\n",
      "2/2 [==============================] - 0s 22ms/step - loss: 0.0649 - accuracy: 0.3600 - val_loss: 0.0197 - val_accuracy: 1.0000\n",
      "Epoch 25/50\n",
      "2/2 [==============================] - 0s 17ms/step - loss: 0.0507 - accuracy: 0.3400 - val_loss: 0.0186 - val_accuracy: 1.0000\n",
      "Epoch 26/50\n",
      "2/2 [==============================] - 0s 22ms/step - loss: 0.0490 - accuracy: 0.4600 - val_loss: 0.0176 - val_accuracy: 1.0000\n",
      "Epoch 27/50\n",
      "2/2 [==============================] - 0s 19ms/step - loss: 0.0430 - accuracy: 0.4800 - val_loss: 0.0153 - val_accuracy: 1.0000\n",
      "Epoch 28/50\n",
      "2/2 [==============================] - 0s 16ms/step - loss: 0.0403 - accuracy: 0.6000 - val_loss: 0.0122 - val_accuracy: 1.0000\n",
      "Epoch 29/50\n",
      "2/2 [==============================] - 0s 19ms/step - loss: 0.0394 - accuracy: 0.5000 - val_loss: 0.0092 - val_accuracy: 1.0000\n",
      "Epoch 30/50\n",
      "2/2 [==============================] - 0s 23ms/step - loss: 0.0381 - accuracy: 0.5000 - val_loss: 0.0075 - val_accuracy: 1.0000\n",
      "Epoch 31/50\n",
      "2/2 [==============================] - 0s 20ms/step - loss: 0.0366 - accuracy: 0.5000 - val_loss: 0.0085 - val_accuracy: 1.0000\n",
      "Epoch 32/50\n",
      "2/2 [==============================] - 0s 34ms/step - loss: 0.0336 - accuracy: 0.5400 - val_loss: 0.0090 - val_accuracy: 1.0000\n",
      "Epoch 33/50\n",
      "2/2 [==============================] - 0s 20ms/step - loss: 0.0340 - accuracy: 0.6000 - val_loss: 0.0081 - val_accuracy: 1.0000\n",
      "Epoch 34/50\n",
      "2/2 [==============================] - 0s 22ms/step - loss: 0.0286 - accuracy: 0.5800 - val_loss: 0.0080 - val_accuracy: 1.0000\n",
      "Epoch 35/50\n",
      "2/2 [==============================] - 0s 17ms/step - loss: 0.0313 - accuracy: 0.5600 - val_loss: 0.0082 - val_accuracy: 1.0000\n",
      "Epoch 36/50\n",
      "2/2 [==============================] - 0s 17ms/step - loss: 0.0298 - accuracy: 0.5600 - val_loss: 0.0077 - val_accuracy: 1.0000\n",
      "Epoch 37/50\n",
      "2/2 [==============================] - 0s 18ms/step - loss: 0.0256 - accuracy: 0.6800 - val_loss: 0.0068 - val_accuracy: 1.0000\n",
      "Epoch 38/50\n",
      "2/2 [==============================] - 0s 18ms/step - loss: 0.0321 - accuracy: 0.6200 - val_loss: 0.0076 - val_accuracy: 1.0000\n",
      "Epoch 39/50\n",
      "2/2 [==============================] - 0s 18ms/step - loss: 0.0300 - accuracy: 0.5400 - val_loss: 0.0090 - val_accuracy: 1.0000\n",
      "Epoch 40/50\n",
      "2/2 [==============================] - 0s 16ms/step - loss: 0.0284 - accuracy: 0.5600 - val_loss: 0.0100 - val_accuracy: 1.0000\n",
      "Epoch 41/50\n",
      "2/2 [==============================] - 0s 20ms/step - loss: 0.0283 - accuracy: 0.4800 - val_loss: 0.0101 - val_accuracy: 1.0000\n",
      "Epoch 42/50\n",
      "2/2 [==============================] - 0s 17ms/step - loss: 0.0271 - accuracy: 0.5400 - val_loss: 0.0094 - val_accuracy: 1.0000\n",
      "Epoch 43/50\n",
      "2/2 [==============================] - 0s 27ms/step - loss: 0.0267 - accuracy: 0.5200 - val_loss: 0.0095 - val_accuracy: 1.0000\n",
      "Epoch 44/50\n",
      "2/2 [==============================] - 0s 18ms/step - loss: 0.0287 - accuracy: 0.6600 - val_loss: 0.0084 - val_accuracy: 1.0000\n",
      "Epoch 45/50\n",
      "2/2 [==============================] - 0s 17ms/step - loss: 0.0241 - accuracy: 0.5400 - val_loss: 0.0078 - val_accuracy: 1.0000\n",
      "Epoch 46/50\n",
      "2/2 [==============================] - 0s 19ms/step - loss: 0.0254 - accuracy: 0.6000 - val_loss: 0.0073 - val_accuracy: 1.0000\n",
      "Epoch 47/50\n",
      "2/2 [==============================] - 0s 22ms/step - loss: 0.0308 - accuracy: 0.5800 - val_loss: 0.0070 - val_accuracy: 1.0000\n",
      "Epoch 48/50\n",
      "2/2 [==============================] - 0s 18ms/step - loss: 0.0287 - accuracy: 0.5000 - val_loss: 0.0070 - val_accuracy: 1.0000\n",
      "Epoch 49/50\n",
      "2/2 [==============================] - 0s 18ms/step - loss: 0.0258 - accuracy: 0.6000 - val_loss: 0.0076 - val_accuracy: 1.0000\n",
      "Epoch 50/50\n",
      "2/2 [==============================] - 0s 18ms/step - loss: 0.0254 - accuracy: 0.6200 - val_loss: 0.0083 - val_accuracy: 1.0000\n"
     ]
    }
   ],
   "source": [
    "history2=model2.fit(X_train, y_train, epochs=50, validation_data =(X_val, y_val))"
   ]
  },
  {
   "cell_type": "code",
   "execution_count": 22,
   "metadata": {},
   "outputs": [
    {
     "name": "stdout",
     "output_type": "stream",
     "text": [
      "Model: \"sequential_1\"\n",
      "_________________________________________________________________\n",
      "Layer (type)                 Output Shape              Param #   \n",
      "=================================================================\n",
      "lstm_2 (LSTM)                (None, 10, 64)            18688     \n",
      "_________________________________________________________________\n",
      "lstm_3 (LSTM)                (None, 32)                12416     \n",
      "_________________________________________________________________\n",
      "dropout (Dropout)            (None, 32)                0         \n",
      "_________________________________________________________________\n",
      "dense_1 (Dense)              (None, 8)                 264       \n",
      "=================================================================\n",
      "Total params: 31,368\n",
      "Trainable params: 31,368\n",
      "Non-trainable params: 0\n",
      "_________________________________________________________________\n"
     ]
    }
   ],
   "source": [
    "model2.summary()"
   ]
  },
  {
   "cell_type": "code",
   "execution_count": 23,
   "metadata": {},
   "outputs": [
    {
     "name": "stdout",
     "output_type": "stream",
     "text": [
      "RMSE：1563.0991\n"
     ]
    }
   ],
   "source": [
    "y_pred2= model2.predict(X_test)\n",
    "\n",
    "y_pred2_inv = scaler.inverse_transform(y_pred2)\n",
    "\n",
    "rmse2 = np.sqrt(np.mean(((y_pred2_inv-y_test_inv) ** 2)))\n",
    "print(f'RMSE：{np.round(rmse2, 4)}')"
   ]
  },
  {
   "cell_type": "code",
   "execution_count": 24,
   "metadata": {},
   "outputs": [
    {
     "data": {
      "image/png": "[encoded data removed]",
      "text/plain": [
       "<Figure size 720x432 with 1 Axes>"
      ]
     },
     "metadata": {
      "needs_background": "light"
     },
     "output_type": "display_data"
    }
   ],
   "source": [
    "prediction2 = pd.DataFrame(y_pred2_inv)\n",
    "prediction2 = prediction2.iloc[:, 0].values\n",
    "\n",
    "plt.figure(figsize=(10,6))\n",
    "\n",
    "plt.plot(prediction2)\n",
    "plt.plot(testdata)\n",
    "plt.legend(['Predicted Value', 'Real Value']);"
   ]
  },
  {
   "cell_type": "code",
   "execution_count": 25,
   "metadata": {},
   "outputs": [
    {
     "data": {
      "text/plain": [
       "['VAR val (train1) - RMSE: 5,785. MAPE: 15%',\n",
       " 'VAR test (train1) - RMSE: 8,934. MAPE: 22%',\n",
       " 'VAR test (train2) - RMSE: 4,809. MAPE: 11%',\n",
       " 'VARMAX val (train1) - RMSE: 3,630. MAPE: 7%',\n",
       " 'VARMAX test (train1) - RMSE: 6,227. MAPE: 16%',\n",
       " 'VARMAX test (train2) - RMSE: 5,639. MAPE: 14%',\n",
       " 'LSTM1 test (train2) - RMSE: 3,154.',\n",
       " 'LSTM2 test (train2) - RMSE: 1,563.']"
      ]
     },
     "execution_count": 25,
     "metadata": {},
     "output_type": "execute_result"
    }
   ],
   "source": [
    "performance.append('LSTM2 test (train2) - RMSE: 1,563.')\n",
    "performance"
   ]
  },
  {
   "cell_type": "markdown",
   "metadata": {},
   "source": [
    "## Model with LeakyReLU"
   ]
  },
  {
   "cell_type": "code",
   "execution_count": 26,
   "metadata": {},
   "outputs": [],
   "source": [
    "model3 = Sequential()\n",
    "model3.add(LSTM(128, return_sequences=True, input_shape=(n_steps, features)))\n",
    "model3.add(LeakyReLU(alpha=0.5))\n",
    "model3.add(LSTM(128, return_sequences=True))\n",
    "model3.add(LeakyReLU(alpha=0.5))\n",
    "model3.add(Dropout(0.3))\n",
    "model3.add(LSTM(64, return_sequences=False))\n",
    "model3.add(Dropout(0.3))\n",
    "model3.add(Dense(features))\n",
    "\n",
    "model3.compile(optimizer='adam', loss='mean_squared_error', metrics=['mean_squared_error', ])"
   ]
  },
  {
   "cell_type": "code",
   "execution_count": 27,
   "metadata": {
    "scrolled": true
   },
   "outputs": [
    {
     "name": "stdout",
     "output_type": "stream",
     "text": [
      "Epoch 1/50\n",
      "2/2 [==============================] - 1s 490ms/step - loss: 0.3540 - mean_squared_error: 0.3540 - val_loss: 0.1448 - val_mean_squared_error: 0.1448\n",
      "Epoch 2/50\n",
      "2/2 [==============================] - 0s 25ms/step - loss: 0.2824 - mean_squared_error: 0.2824 - val_loss: 0.0986 - val_mean_squared_error: 0.0986\n",
      "Epoch 3/50\n",
      "2/2 [==============================] - 0s 29ms/step - loss: 0.2045 - mean_squared_error: 0.2045 - val_loss: 0.0787 - val_mean_squared_error: 0.0787\n",
      "Epoch 4/50\n",
      "2/2 [==============================] - 0s 30ms/step - loss: 0.1516 - mean_squared_error: 0.1516 - val_loss: 0.1099 - val_mean_squared_error: 0.1099\n",
      "Epoch 5/50\n",
      "2/2 [==============================] - 0s 29ms/step - loss: 0.1672 - mean_squared_error: 0.1672 - val_loss: 0.0928 - val_mean_squared_error: 0.0928\n",
      "Epoch 6/50\n",
      "2/2 [==============================] - 0s 31ms/step - loss: 0.1328 - mean_squared_error: 0.1328 - val_loss: 0.0580 - val_mean_squared_error: 0.0580\n",
      "Epoch 7/50\n",
      "2/2 [==============================] - 0s 31ms/step - loss: 0.1196 - mean_squared_error: 0.1196 - val_loss: 0.0449 - val_mean_squared_error: 0.0449\n",
      "Epoch 8/50\n",
      "2/2 [==============================] - 0s 29ms/step - loss: 0.1271 - mean_squared_error: 0.1271 - val_loss: 0.0428 - val_mean_squared_error: 0.0428\n",
      "Epoch 9/50\n",
      "2/2 [==============================] - 0s 22ms/step - loss: 0.1305 - mean_squared_error: 0.1305 - val_loss: 0.0441 - val_mean_squared_error: 0.0441\n",
      "Epoch 10/50\n",
      "2/2 [==============================] - 0s 25ms/step - loss: 0.1070 - mean_squared_error: 0.1070 - val_loss: 0.0450 - val_mean_squared_error: 0.0450\n",
      "Epoch 11/50\n",
      "2/2 [==============================] - 0s 23ms/step - loss: 0.1096 - mean_squared_error: 0.1096 - val_loss: 0.0434 - val_mean_squared_error: 0.0434\n",
      "Epoch 12/50\n",
      "2/2 [==============================] - 0s 21ms/step - loss: 0.1049 - mean_squared_error: 0.1049 - val_loss: 0.0425 - val_mean_squared_error: 0.0425\n",
      "Epoch 13/50\n",
      "2/2 [==============================] - 0s 21ms/step - loss: 0.1015 - mean_squared_error: 0.1015 - val_loss: 0.0410 - val_mean_squared_error: 0.0410\n",
      "Epoch 14/50\n",
      "2/2 [==============================] - 0s 27ms/step - loss: 0.0918 - mean_squared_error: 0.0918 - val_loss: 0.0396 - val_mean_squared_error: 0.0396\n",
      "Epoch 15/50\n",
      "2/2 [==============================] - 0s 26ms/step - loss: 0.0949 - mean_squared_error: 0.0949 - val_loss: 0.0380 - val_mean_squared_error: 0.0380\n",
      "Epoch 16/50\n",
      "2/2 [==============================] - 0s 30ms/step - loss: 0.0927 - mean_squared_error: 0.0927 - val_loss: 0.0363 - val_mean_squared_error: 0.0363\n",
      "Epoch 17/50\n",
      "2/2 [==============================] - 0s 27ms/step - loss: 0.0952 - mean_squared_error: 0.0952 - val_loss: 0.0354 - val_mean_squared_error: 0.0354\n",
      "Epoch 18/50\n",
      "2/2 [==============================] - 0s 28ms/step - loss: 0.0875 - mean_squared_error: 0.0875 - val_loss: 0.0354 - val_mean_squared_error: 0.0354\n",
      "Epoch 19/50\n",
      "2/2 [==============================] - 0s 25ms/step - loss: 0.0841 - mean_squared_error: 0.0841 - val_loss: 0.0358 - val_mean_squared_error: 0.0358\n",
      "Epoch 20/50\n",
      "2/2 [==============================] - 0s 27ms/step - loss: 0.0768 - mean_squared_error: 0.0768 - val_loss: 0.0362 - val_mean_squared_error: 0.0362\n",
      "Epoch 21/50\n",
      "2/2 [==============================] - 0s 21ms/step - loss: 0.0860 - mean_squared_error: 0.0860 - val_loss: 0.0361 - val_mean_squared_error: 0.0361\n",
      "Epoch 22/50\n",
      "2/2 [==============================] - 0s 23ms/step - loss: 0.0854 - mean_squared_error: 0.0854 - val_loss: 0.0360 - val_mean_squared_error: 0.0360\n"
     ]
    }
   ],
   "source": [
    "history3 = model3.fit(X_train, y_train, epochs=50, validation_data =(X_val, y_val), callbacks=[early,reduce])"
   ]
  },
  {
   "cell_type": "code",
   "execution_count": 28,
   "metadata": {},
   "outputs": [
    {
     "name": "stdout",
     "output_type": "stream",
     "text": [
      "Model: \"sequential_2\"\n",
      "_________________________________________________________________\n",
      "Layer (type)                 Output Shape              Param #   \n",
      "=================================================================\n",
      "lstm_4 (LSTM)                (None, 10, 128)           70144     \n",
      "_________________________________________________________________\n",
      "leaky_re_lu (LeakyReLU)      (None, 10, 128)           0         \n",
      "_________________________________________________________________\n",
      "lstm_5 (LSTM)                (None, 10, 128)           131584    \n",
      "_________________________________________________________________\n",
      "leaky_re_lu_1 (LeakyReLU)    (None, 10, 128)           0         \n",
      "_________________________________________________________________\n",
      "dropout_1 (Dropout)          (None, 10, 128)           0         \n",
      "_________________________________________________________________\n",
      "lstm_6 (LSTM)                (None, 64)                49408     \n",
      "_________________________________________________________________\n",
      "dropout_2 (Dropout)          (None, 64)                0         \n",
      "_________________________________________________________________\n",
      "dense_2 (Dense)              (None, 8)                 520       \n",
      "=================================================================\n",
      "Total params: 251,656\n",
      "Trainable params: 251,656\n",
      "Non-trainable params: 0\n",
      "_________________________________________________________________\n"
     ]
    }
   ],
   "source": [
    "model3.summary()"
   ]
  },
  {
   "cell_type": "code",
   "execution_count": 29,
   "metadata": {},
   "outputs": [],
   "source": [
    "y_pred3= model3.predict(X_test)"
   ]
  },
  {
   "cell_type": "code",
   "execution_count": 30,
   "metadata": {},
   "outputs": [
    {
     "name": "stdout",
     "output_type": "stream",
     "text": [
      "RMSE：2572.3795\n"
     ]
    }
   ],
   "source": [
    "y_pred3_inv = scaler.inverse_transform(y_pred3)\n",
    "\n",
    "rmse3 = np.sqrt(np.mean(((y_pred3_inv-y_test_inv) ** 2)))\n",
    "print(f'RMSE：{np.round(rmse3, 4)}')"
   ]
  },
  {
   "cell_type": "code",
   "execution_count": 31,
   "metadata": {
    "scrolled": true
   },
   "outputs": [
    {
     "data": {
      "image/png": "[encoded data removed]",
      "text/plain": [
       "<Figure size 720x432 with 1 Axes>"
      ]
     },
     "metadata": {
      "needs_background": "light"
     },
     "output_type": "display_data"
    }
   ],
   "source": [
    "prediction = pd.DataFrame(y_pred3_inv)\n",
    "prediction = prediction.iloc[:, 0].values\n",
    "\n",
    "plt.figure(figsize=(10,6))\n",
    "\n",
    "plt.plot(prediction)\n",
    "plt.plot(testdata)\n",
    "plt.legend(['Predicted Value', 'Real Value']);"
   ]
  },
  {
   "cell_type": "code",
   "execution_count": 32,
   "metadata": {},
   "outputs": [
    {
     "data": {
      "text/plain": [
       "['VAR val (train1) - RMSE: 5,785. MAPE: 15%',\n",
       " 'VAR test (train1) - RMSE: 8,934. MAPE: 22%',\n",
       " 'VAR test (train2) - RMSE: 4,809. MAPE: 11%',\n",
       " 'VARMAX val (train1) - RMSE: 3,630. MAPE: 7%',\n",
       " 'VARMAX test (train1) - RMSE: 6,227. MAPE: 16%',\n",
       " 'VARMAX test (train2) - RMSE: 5,639. MAPE: 14%',\n",
       " 'LSTM1 test (train2) - RMSE: 3,154.',\n",
       " 'LSTM2 test (train2) - RMSE: 1,563.',\n",
       " 'LSTM3 test (train2) - RMSE: 2,572.']"
      ]
     },
     "execution_count": 32,
     "metadata": {},
     "output_type": "execute_result"
    }
   ],
   "source": [
    "performance.append('LSTM3 test (train2) - RMSE: 2,572.')\n",
    "performance"
   ]
  },
  {
   "cell_type": "code",
   "execution_count": null,
   "metadata": {},
   "outputs": [],
   "source": []
  }
 ],
 "metadata": {
  "kernelspec": {
   "display_name": "Python 3",
   "language": "python",
   "name": "python3"
  },
  "language_info": {
   "codemirror_mode": {
    "name": "ipython",
    "version": 3
   },
   "file_extension": ".py",
   "mimetype": "text/x-python",
   "name": "python",
   "nbconvert_exporter": "python",
   "pygments_lexer": "ipython3",
   "version": "3.8.5"
  }
 },
 "nbformat": 4,
 "nbformat_minor": 4
}
